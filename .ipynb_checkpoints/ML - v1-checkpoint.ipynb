{
 "cells": [
  {
   "cell_type": "code",
   "execution_count": 20,
   "id": "6e96beab",
   "metadata": {
    "scrolled": true
   },
   "outputs": [],
   "source": [
    "import pandas as pd\n",
    "import sklearn as sklearn\n",
    "import numpy as np\n",
    "from sklearn.impute import SimpleImputer\n",
    "\n",
    "data11 = pd.read_csv('opel_corsa_01.csv', delimiter=';')\n",
    "data12 = pd.read_csv('opel_corsa_02.csv', delimiter=';')\n",
    "data21 = pd.read_csv('peugeot_207_01.csv', delimiter=';')\n",
    "data22 = pd.read_csv('peugeot_207_02.csv', delimiter=';')\n",
    "\n",
    "#конкатенация таблиц\n",
    "data = pd.concat([data11, data12, data21, data22], ignore_index=True)\n",
    "\n",
    "#присвоение признаков\n",
    "x = data.values[::, 0:14]\n",
    "y = data.values[::, 14:17]\n",
    "\n",
    "#Nans Imputer\n",
    "imp_mean = SimpleImputer(missing_values=np.nan, strategy='most_frequent')\n",
    "x = imp_mean.fit_transform(x)\n",
    "\n",
    "#нормализация данных (или всё таки стандартизация?)\n",
    "from sklearn.preprocessing import StandardScaler\n",
    "scaler = StandardScaler().fit(x)\n",
    "standardized_X = scaler.transform(x)\n",
    "\n",
    "#Разделение признаков\n",
    "from sklearn.model_selection import train_test_split\n",
    "x_train, x_test, y_train, y_test = train_test_split(x, y, test_size=0.2, random_state=0)"
   ]
  },
  {
   "cell_type": "code",
   "execution_count": 21,
   "id": "332c04ec",
   "metadata": {
    "tags": []
   },
   "outputs": [],
   "source": [
    "from sklearn.preprocessing import Normalizer\n",
    "\n",
    "scaler = Normalizer().fit(x_test)\n",
    "normalized_x = scaler.transform(x_test)\n",
    "\n",
    "#Синтаксис - could not convert string to float: '1,300003052'\n",
    "\n",
    "#модель SVM Vs Logistic Regression."
   ]
  },
  {
   "cell_type": "code",
   "execution_count": 22,
   "id": "559cf2ea-9bff-43a2-a1a8-14e2ddffb1c7",
   "metadata": {},
   "outputs": [
    {
     "data": {
      "text/plain": [
       "array([[ 1.00499015e-03,  2.57431481e-02,  2.85725750e-02, ...,\n",
       "         1.54613506e-02,  9.65561342e-05,  9.94842572e-03],\n",
       "       [ 1.06277620e-03,  1.23648456e-02,  9.55948803e-03, ...,\n",
       "         9.29943366e-03,  4.14931873e-05,  5.76893384e-03],\n",
       "       [-2.37474271e-03,  2.69702611e-02,  3.95818282e-02, ...,\n",
       "         2.43128156e-02, -2.63313447e-04,  4.89753613e-03],\n",
       "       ...,\n",
       "       [ 0.00000000e+00,  0.00000000e+00,  3.40759100e-02, ...,\n",
       "         1.30575287e-02,  9.79314653e-05,  1.35996228e-02],\n",
       "       [ 2.43491777e-04,  1.24181116e-02,  2.44709850e-03, ...,\n",
       "         1.54211851e-02,  1.88706607e-04,  1.96596721e-02],\n",
       "       [-8.56358251e-04,  1.42697704e-02,  8.03960187e-03, ...,\n",
       "         8.56358251e-03,  7.44779053e-03,  9.45877423e-03]])"
      ]
     },
     "execution_count": 22,
     "metadata": {},
     "output_type": "execute_result"
    }
   ],
   "source": [
    "normalized_x"
   ]
  },
  {
   "cell_type": "code",
   "execution_count": null,
   "id": "4b91add4-0394-473b-807b-b1dadbaa363e",
   "metadata": {},
   "outputs": [],
   "source": []
  }
 ],
 "metadata": {
  "kernelspec": {
   "display_name": "Python 3 (ipykernel)",
   "language": "python",
   "name": "python3"
  },
  "language_info": {
   "codemirror_mode": {
    "name": "ipython",
    "version": 3
   },
   "file_extension": ".py",
   "mimetype": "text/x-python",
   "name": "python",
   "nbconvert_exporter": "python",
   "pygments_lexer": "ipython3",
   "version": "3.8.13"
  }
 },
 "nbformat": 4,
 "nbformat_minor": 5
}
