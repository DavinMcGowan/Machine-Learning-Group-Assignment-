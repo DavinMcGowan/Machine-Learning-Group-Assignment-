{
 "cells": [
  {
   "cell_type": "code",
   "execution_count": 39,
   "id": "6e96beab",
   "metadata": {
    "scrolled": true,
    "tags": []
   },
   "outputs": [],
   "source": [
    "import pandas as pd\n",
    "import numpy as np\n",
    "import sklearn\n",
    "\n",
    "#Загрузка и конкатенация данных\n",
    "data11 = pd.read_csv('opel_corsa_01.csv', delimiter=';')\n",
    "data12 = pd.read_csv('opel_corsa_02.csv', delimiter=';')\n",
    "data21 = pd.read_csv('peugeot_207_01.csv', delimiter=';')\n",
    "data22 = pd.read_csv('peugeot_207_02.csv', delimiter=';')\n",
    "data = pd.concat([data11, data12, data21, data22], ignore_index=True)\n",
    "#data.to_csv('data')\n",
    "\n",
    "#Присвоение признаков\n",
    "x = data.values[::, 0:14]\n",
    "y = data.values[::, 14:15]\n",
    "\n",
    "#NaN, стандартизация, кодирование srt признаков (НЕ РАБОТАЕТ)\n",
    "from sklearn.impute import SimpleImputer\n",
    "imp = SimpleImputer(strategy=\"most_frequent\")\n",
    "x = imp.fit_transform(x)\n",
    "\n",
    "from sklearn.preprocessing import StandardScaler\n",
    "scaler = StandardScaler().fit(x)\n",
    "x = scaler.fit_transform(x)\n",
    "\n",
    "from sklearn.preprocessing import OrdinalEncoder\n",
    "enc = OrdinalEncoder()\n",
    "y = enc.fit_transform(y)\n",
    "\n",
    "#Разделение на поезда\n",
    "from sklearn.model_selection import train_test_split\n",
    "x_train, x_test, y_train, y_test = train_test_split(x, y, test_size=0.2, random_state=0)\n",
    "\n",
    "#print(x_train)\n",
    "#print(y_train)"
   ]
  },
  {
   "cell_type": "code",
   "execution_count": 40,
   "id": "e55d9917",
   "metadata": {},
   "outputs": [],
   "source": [
    "# Make y_train 1 dimensional\n",
    "y_train = y_train.ravel()\n",
    "\n",
    "#Обучаем модель\n",
    "from sklearn.svm import SVC\n",
    "svc = SVC(kernel='linear')\n",
    "model = svc.fit(x_train, y_train)"
   ]
  },
  {
   "cell_type": "code",
   "execution_count": 41,
   "id": "2ff76025",
   "metadata": {},
   "outputs": [
    {
     "data": {
      "text/html": [
       "<div>\n",
       "<style scoped>\n",
       "    .dataframe tbody tr th:only-of-type {\n",
       "        vertical-align: middle;\n",
       "    }\n",
       "\n",
       "    .dataframe tbody tr th {\n",
       "        vertical-align: top;\n",
       "    }\n",
       "\n",
       "    .dataframe thead th {\n",
       "        text-align: right;\n",
       "    }\n",
       "</style>\n",
       "<table border=\"1\" class=\"dataframe\">\n",
       "  <thead>\n",
       "    <tr style=\"text-align: right;\">\n",
       "      <th></th>\n",
       "      <th>0.0</th>\n",
       "      <th>1.0</th>\n",
       "      <th>2.0</th>\n",
       "    </tr>\n",
       "  </thead>\n",
       "  <tbody>\n",
       "    <tr>\n",
       "      <th>0.0</th>\n",
       "      <td>471</td>\n",
       "      <td>81</td>\n",
       "      <td>103</td>\n",
       "    </tr>\n",
       "    <tr>\n",
       "      <th>1.0</th>\n",
       "      <td>118</td>\n",
       "      <td>2611</td>\n",
       "      <td>305</td>\n",
       "    </tr>\n",
       "    <tr>\n",
       "      <th>2.0</th>\n",
       "      <td>150</td>\n",
       "      <td>328</td>\n",
       "      <td>825</td>\n",
       "    </tr>\n",
       "  </tbody>\n",
       "</table>\n",
       "</div>"
      ],
      "text/plain": [
       "     0.0   1.0  2.0\n",
       "0.0  471    81  103\n",
       "1.0  118  2611  305\n",
       "2.0  150   328  825"
      ]
     },
     "execution_count": 41,
     "metadata": {},
     "output_type": "execute_result"
    }
   ],
   "source": [
    "#Предсказывает\n",
    "result = svc.predict(x_test)\n",
    "\n",
    "#Оцениваем качество модели (metrix_name - указать моетод)\n",
    "\n",
    "from sklearn.metrics import confusion_matrix, accuracy_score\n",
    "conf = confusion_matrix(y_test, result)\n",
    "pd.DataFrame(conf, index=svc.classes_, columns=svc.classes_)"
   ]
  },
  {
   "cell_type": "code",
   "execution_count": 42,
   "id": "1c4e76d5-1124-4c36-9ac3-4122206c8e9a",
   "metadata": {},
   "outputs": [
    {
     "data": {
      "text/plain": [
       "0.7826522435897436"
      ]
     },
     "execution_count": 42,
     "metadata": {},
     "output_type": "execute_result"
    }
   ],
   "source": [
    "accuracy_score(y_test, result)"
   ]
  },
  {
   "cell_type": "code",
   "execution_count": 43,
   "id": "784efe9d",
   "metadata": {},
   "outputs": [
    {
     "data": {
      "text/html": [
       "<div>\n",
       "<style scoped>\n",
       "    .dataframe tbody tr th:only-of-type {\n",
       "        vertical-align: middle;\n",
       "    }\n",
       "\n",
       "    .dataframe tbody tr th {\n",
       "        vertical-align: top;\n",
       "    }\n",
       "\n",
       "    .dataframe thead th {\n",
       "        text-align: right;\n",
       "    }\n",
       "</style>\n",
       "<table border=\"1\" class=\"dataframe\">\n",
       "  <thead>\n",
       "    <tr style=\"text-align: right;\">\n",
       "      <th></th>\n",
       "      <th>0.0</th>\n",
       "      <th>1.0</th>\n",
       "      <th>2.0</th>\n",
       "    </tr>\n",
       "  </thead>\n",
       "  <tbody>\n",
       "    <tr>\n",
       "      <th>0.0</th>\n",
       "      <td>432</td>\n",
       "      <td>120</td>\n",
       "      <td>103</td>\n",
       "    </tr>\n",
       "    <tr>\n",
       "      <th>1.0</th>\n",
       "      <td>101</td>\n",
       "      <td>2660</td>\n",
       "      <td>273</td>\n",
       "    </tr>\n",
       "    <tr>\n",
       "      <th>2.0</th>\n",
       "      <td>133</td>\n",
       "      <td>385</td>\n",
       "      <td>785</td>\n",
       "    </tr>\n",
       "  </tbody>\n",
       "</table>\n",
       "</div>"
      ],
      "text/plain": [
       "     0.0   1.0  2.0\n",
       "0.0  432   120  103\n",
       "1.0  101  2660  273\n",
       "2.0  133   385  785"
      ]
     },
     "execution_count": 43,
     "metadata": {},
     "output_type": "execute_result"
    }
   ],
   "source": [
    "from sklearn.linear_model import LogisticRegression\n",
    "clf = LogisticRegression(random_state=0, solver='lbfgs', multi_class='multinomial')\n",
    "\n",
    "model2 = clf.fit(x_train, y_train)\n",
    "result2 = clf.predict(x_test)\n",
    "\n",
    "conf = confusion_matrix(y_test, result2)\n",
    "pd.DataFrame(conf, index=clf.classes_, columns=clf.classes_)"
   ]
  },
  {
   "cell_type": "code",
   "execution_count": 44,
   "id": "6200f27b",
   "metadata": {},
   "outputs": [
    {
     "data": {
      "text/plain": [
       "0.7766426282051282"
      ]
     },
     "execution_count": 44,
     "metadata": {},
     "output_type": "execute_result"
    }
   ],
   "source": [
    "accuracy_score(y_test, result2)"
   ]
  }
 ],
 "metadata": {
  "kernelspec": {
   "display_name": "Python 3 (ipykernel)",
   "language": "python",
   "name": "python3"
  },
  "language_info": {
   "codemirror_mode": {
    "name": "ipython",
    "version": 3
   },
   "file_extension": ".py",
   "mimetype": "text/x-python",
   "name": "python",
   "nbconvert_exporter": "python",
   "pygments_lexer": "ipython3",
   "version": "3.8.13"
  }
 },
 "nbformat": 4,
 "nbformat_minor": 5
}
